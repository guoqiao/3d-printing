{
 "metadata": {
  "language_info": {
   "codemirror_mode": {
    "name": "ipython",
    "version": 3
   },
   "file_extension": ".py",
   "mimetype": "text/x-python",
   "name": "python",
   "nbconvert_exporter": "python",
   "pygments_lexer": "ipython3",
   "version": "3.8.2-final"
  },
  "orig_nbformat": 2,
  "kernelspec": {
   "name": "python38264bit0ce465ee8ed148d09e4e3306a62bd72c",
   "display_name": "Python 3.8.2 64-bit"
  }
 },
 "nbformat": 4,
 "nbformat_minor": 2,
 "cells": [
  {
   "cell_type": "code",
   "execution_count": 3,
   "metadata": {
    "tags": []
   },
   "outputs": [
    {
     "output_type": "display_data",
     "data": {
      "text/plain": "VBox(children=(HTML(value=''), Renderer(background='#cccc88', background_opacity=0.0, camera=PerspectiveCamera…",
      "application/vnd.jupyter.widget-view+json": {
       "version_major": 2,
       "version_minor": 0,
       "model_id": "fa258877a38e4e8b97ce7a972605d7d7"
      }
     },
     "metadata": {}
    }
   ],
   "source": [
    "from solid import *\n",
    "from solid.utils import *\n",
    "\n",
    "\n",
    "obj = cylinder(r=5, h=2)\n",
    "\n",
    "\n",
    "\n",
    "name = 'main'\n",
    "scad_render_to_file(obj, f'{name}.scad')\n",
    "\n",
    "import viewscad\n",
    "r = viewscad.Renderer(width=800, height=800, draw_grids=True, grid_lines_width=1)\n",
    "r.render(obj, outfile=f'{name}.stl', rough=False, dollar_sign_vars={'fn': 30})\n"
   ]
  }
 ]
}