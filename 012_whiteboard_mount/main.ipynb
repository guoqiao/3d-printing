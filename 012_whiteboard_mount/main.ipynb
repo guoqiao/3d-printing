{
 "metadata": {
  "language_info": {
   "codemirror_mode": {
    "name": "ipython",
    "version": 3
   },
   "file_extension": ".py",
   "mimetype": "text/x-python",
   "name": "python",
   "nbconvert_exporter": "python",
   "pygments_lexer": "ipython3",
   "version": "3.8.2-final"
  },
  "orig_nbformat": 2,
  "kernelspec": {
   "name": "python38264bit0ce465ee8ed148d09e4e3306a62bd72c",
   "display_name": "Python 3.8.2 64-bit"
  }
 },
 "nbformat": 4,
 "nbformat_minor": 2,
 "cells": [
  {
   "cell_type": "code",
   "execution_count": 14,
   "metadata": {
    "tags": []
   },
   "outputs": [
    {
     "output_type": "display_data",
     "data": {
      "text/plain": "VBox(children=(HTML(value=''), Renderer(background='#cccc88', background_opacity=0.0, camera=PerspectiveCamera…",
      "application/vnd.jupyter.widget-view+json": {
       "version_major": 2,
       "version_minor": 0,
       "model_id": "90657292b0874c35bd2c809faea53a32"
      }
     },
     "metadata": {}
    }
   ],
   "source": [
    "from solid import *\n",
    "from solid.utils import *\n",
    "import viewscad\n",
    "\n",
    "whiteboad_thick = 10\n",
    "mount_thick = 5\n",
    "mount_width = 20\n",
    "\n",
    "hole = rotate([-90,0,0])(cylinder(r=1,h=30))\n",
    "hole1 = translate([mount_thick+whiteboad_thick/2,-2,mount_width/4])(hole)\n",
    "hole2 = translate([mount_thick+whiteboad_thick/2,-2,3*mount_width/4])(hole)\n",
    "\n",
    "block = cube([whiteboad_thick+mount_thick, mount_thick, mount_width])\n",
    "block1 = block - hole1 - hole2\n",
    "block2 = right(mount_thick)(rotate([0,0,90])(block))\n",
    "block3 = translate([-whiteboad_thick,whiteboad_thick,0])(block)\n",
    "\n",
    "obj = block1 + block2 + block3\n",
    "\n",
    "name = 'main'\n",
    "scad_render_to_file(obj, f'{name}.scad')\n",
    "r = viewscad.Renderer(width=1024, height=1024, draw_grids=True, grid_lines_width=1)\n",
    "r.render(obj, outfile=f'{name}.stl', rough=False, dollar_sign_vars={'fn': 30})\n"
   ]
  },
  {
   "cell_type": "code",
   "execution_count": null,
   "metadata": {},
   "outputs": [],
   "source": []
  }
 ]
}